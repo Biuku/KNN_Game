{
 "cells": [
  {
   "cell_type": "markdown",
   "metadata": {},
   "source": [
    "# KNN algo \n",
    "\n",
    "April 23, 2021"
   ]
  },
  {
   "cell_type": "code",
   "execution_count": 2,
   "metadata": {},
   "outputs": [],
   "source": [
    "import numpy as np"
   ]
  },
  {
   "cell_type": "code",
   "execution_count": 82,
   "metadata": {},
   "outputs": [],
   "source": [
    "arr = np.load('../data/arr30.npy')"
   ]
  },
  {
   "cell_type": "code",
   "execution_count": 83,
   "metadata": {},
   "outputs": [
    {
     "data": {
      "text/plain": [
       "array([[ 7.2292, 17.    ,  0.    ],\n",
       "       [ 9.    , 47.    ,  0.    ],\n",
       "       [ 7.925 , 44.    ,  1.    ],\n",
       "       [ 7.75  , 29.    ,  1.    ],\n",
       "       [40.125 , 36.    ,  0.    ]])"
      ]
     },
     "execution_count": 83,
     "metadata": {},
     "output_type": "execute_result"
    }
   ],
   "source": [
    "arr[:5]"
   ]
  },
  {
   "cell_type": "markdown",
   "metadata": {},
   "source": [
    "## 1. Euclidian distance"
   ]
  },
  {
   "cell_type": "code",
   "execution_count": 65,
   "metadata": {},
   "outputs": [],
   "source": [
    "a = (arr[0,:2])\n",
    "b = (arr[1,:2])"
   ]
  },
  {
   "cell_type": "code",
   "execution_count": 66,
   "metadata": {},
   "outputs": [
    {
     "name": "stdout",
     "output_type": "stream",
     "text": [
      "[ 7.2292 17.    ]\n",
      "[ 9. 47.]\n"
     ]
    }
   ],
   "source": [
    "print(a)\n",
    "print(b)"
   ]
  },
  {
   "cell_type": "markdown",
   "metadata": {},
   "source": [
    "#### Do it manually"
   ]
  },
  {
   "cell_type": "code",
   "execution_count": 14,
   "metadata": {},
   "outputs": [],
   "source": [
    "import math as m"
   ]
  },
  {
   "cell_type": "code",
   "execution_count": 67,
   "metadata": {},
   "outputs": [
    {
     "data": {
      "text/plain": [
       "30.052216767486556"
      ]
     },
     "execution_count": 67,
     "metadata": {},
     "output_type": "execute_result"
    }
   ],
   "source": [
    "m.sqrt( (b[0] - a[0])**2 + (b[1] - a[1])**2 )"
   ]
  },
  {
   "cell_type": "markdown",
   "metadata": {},
   "source": [
    "#### Do it manually in numpy"
   ]
  },
  {
   "cell_type": "code",
   "execution_count": 70,
   "metadata": {},
   "outputs": [
    {
     "data": {
      "text/plain": [
       "30.052216767486556"
      ]
     },
     "execution_count": 70,
     "metadata": {},
     "output_type": "execute_result"
    }
   ],
   "source": [
    "np.sqrt(np.sum(np.square(a-b)))"
   ]
  },
  {
   "cell_type": "markdown",
   "metadata": {},
   "source": [
    "## 2. Get Euclid on norm_arr"
   ]
  },
  {
   "cell_type": "code",
   "execution_count": 125,
   "metadata": {},
   "outputs": [],
   "source": [
    "arr_orig = np.load('../data/arr30.npy')"
   ]
  },
  {
   "cell_type": "code",
   "execution_count": 126,
   "metadata": {},
   "outputs": [
    {
     "data": {
      "text/plain": [
       "array([[ 7.2292, 17.    ,  0.    ,  0.    ,  0.    ],\n",
       "       [ 9.    , 47.    ,  0.    ,  0.    ,  0.    ],\n",
       "       [ 7.925 , 44.    ,  1.    ,  0.    ,  0.    ],\n",
       "       [ 7.75  , 29.    ,  1.    ,  0.    ,  0.    ],\n",
       "       [40.125 , 36.    ,  0.    ,  0.    ,  0.    ]])"
      ]
     },
     "execution_count": 126,
     "metadata": {},
     "output_type": "execute_result"
    }
   ],
   "source": [
    "zeros = np.zeros( (30, 2) )\n",
    "arr = np.concatenate( (arr_orig, zeros), axis=1 )\n",
    "arr[:5]"
   ]
  },
  {
   "cell_type": "markdown",
   "metadata": {},
   "source": [
    "#### Note: -2 = euclid, -1 = bool for whether top K"
   ]
  },
  {
   "cell_type": "code",
   "execution_count": 86,
   "metadata": {},
   "outputs": [
    {
     "data": {
      "text/plain": [
       "[11, 25]"
      ]
     },
     "execution_count": 86,
     "metadata": {},
     "output_type": "execute_result"
    }
   ],
   "source": [
    "fare = 11\n",
    "age = 25\n",
    "\n",
    "mid_coord = [fare, age]\n",
    "mid_coord"
   ]
  },
  {
   "cell_type": "code",
   "execution_count": 40,
   "metadata": {},
   "outputs": [
    {
     "data": {
      "text/plain": [
       "array([[ 7.2292, 17.    ],\n",
       "       [ 9.    , 47.    ],\n",
       "       [ 7.925 , 44.    ],\n",
       "       [ 7.75  , 29.    ],\n",
       "       [40.125 , 36.    ]])"
      ]
     },
     "execution_count": 40,
     "metadata": {},
     "output_type": "execute_result"
    }
   ],
   "source": [
    "arr[:5,:2]"
   ]
  },
  {
   "cell_type": "code",
   "execution_count": 127,
   "metadata": {},
   "outputs": [],
   "source": [
    "for i, coord in enumerate(arr[:,:2]):\n",
    "    arr[i,3] = np.sqrt(np.sum(np.square(coord-mid_coord)))"
   ]
  },
  {
   "cell_type": "code",
   "execution_count": 128,
   "metadata": {},
   "outputs": [
    {
     "data": {
      "text/plain": [
       "array([[ 7.2292    , 17.        ,  0.        ,  8.8441468 ,  0.        ],\n",
       "       [ 9.        , 47.        ,  0.        , 22.09072203,  0.        ],\n",
       "       [ 7.925     , 44.        ,  1.        , 19.24722383,  0.        ],\n",
       "       [ 7.75      , 29.        ,  1.        ,  5.15388203,  0.        ],\n",
       "       [40.125     , 36.        ,  0.        , 31.13303109,  0.        ]])"
      ]
     },
     "execution_count": 128,
     "metadata": {},
     "output_type": "execute_result"
    }
   ],
   "source": [
    "arr[:5]"
   ]
  },
  {
   "cell_type": "markdown",
   "metadata": {},
   "source": [
    "## 3. Get the K min distances"
   ]
  },
  {
   "cell_type": "code",
   "execution_count": 90,
   "metadata": {},
   "outputs": [],
   "source": [
    "k = 7"
   ]
  },
  {
   "cell_type": "markdown",
   "metadata": {},
   "source": [
    "#### argpartition returns index values of least"
   ]
  },
  {
   "cell_type": "code",
   "execution_count": 129,
   "metadata": {},
   "outputs": [
    {
     "data": {
      "text/plain": [
       "array([ 5, 22, 11,  3, 13, 27, 20,  0, 26, 16, 15, 12,  8, 14,  1, 10,  9,\n",
       "       17, 18, 19,  7, 21,  6, 23, 24, 25,  4,  2, 28, 29], dtype=int64)"
      ]
     },
     "execution_count": 129,
     "metadata": {},
     "output_type": "execute_result"
    }
   ],
   "source": [
    "x = np.argpartition(arr[:,3], 7)\n",
    "x"
   ]
  },
  {
   "cell_type": "code",
   "execution_count": 133,
   "metadata": {},
   "outputs": [],
   "source": [
    "arr[x[:k],4] = 1"
   ]
  },
  {
   "cell_type": "code",
   "execution_count": 134,
   "metadata": {},
   "outputs": [
    {
     "data": {
      "text/plain": [
       "array([[  0.        ,   8.8441468 ,   0.        ],\n",
       "       [  0.        ,  22.09072203,   0.        ],\n",
       "       [  1.        ,  19.24722383,   0.        ],\n",
       "       [  1.        ,   5.15388203,   1.        ],\n",
       "       [  0.        ,  31.13303109,   0.        ],\n",
       "       [  0.        ,   3.35410197,   1.        ],\n",
       "       [  1.        ,  22.53907718,   0.        ],\n",
       "       [  1.        , 501.44986467,   0.        ],\n",
       "       [  0.        ,  16.55375539,   0.        ],\n",
       "       [  0.        ,  34.68144316,   0.        ],\n",
       "       [  1.        ,  25.30978373,   0.        ],\n",
       "       [  1.        ,   5.22015325,   1.        ],\n",
       "       [  0.        ,  11.18033989,   0.        ],\n",
       "       [  0.        ,   5.85768726,   1.        ],\n",
       "       [  0.        ,  17.49285568,   0.        ],\n",
       "       [  1.        ,   9.21954446,   0.        ],\n",
       "       [  0.        ,   9.56036741,   0.        ],\n",
       "       [  1.        ,  18.26766696,   0.        ],\n",
       "       [  0.        ,  71.23400012,   0.        ],\n",
       "       [  1.        ,  82.65137627,   0.        ],\n",
       "       [  0.        ,   6.81180042,   1.        ],\n",
       "       [  1.        ,  61.        ,   0.        ],\n",
       "       [  0.        ,   5.80538543,   1.        ],\n",
       "       [  1.        ,  46.38965402,   0.        ],\n",
       "       [  1.        ,  47.03201038,   0.        ],\n",
       "       [  1.        ,  25.83951673,   0.        ],\n",
       "       [  1.        ,   9.21954446,   0.        ],\n",
       "       [  0.        ,   6.77466292,   1.        ],\n",
       "       [  0.        ,  49.10601414,   0.        ],\n",
       "       [  1.        ,  36.70095367,   0.        ]])"
      ]
     },
     "execution_count": 134,
     "metadata": {},
     "output_type": "execute_result"
    }
   ],
   "source": [
    "arr[:,2:]"
   ]
  },
  {
   "cell_type": "code",
   "execution_count": 147,
   "metadata": {},
   "outputs": [],
   "source": [
    "arr = np.zeros( (10, 2) )"
   ]
  },
  {
   "cell_type": "code",
   "execution_count": 162,
   "metadata": {},
   "outputs": [
    {
     "name": "stderr",
     "output_type": "stream",
     "text": [
      "C:\\ProgramData\\Anaconda3\\lib\\site-packages\\ipykernel_launcher.py:1: DeprecationWarning: This function is deprecated. Please call randint(2, 10 + 1) instead\n",
      "  \"\"\"Entry point for launching an IPython kernel.\n"
     ]
    },
    {
     "data": {
      "text/plain": [
       "array([ 8, 10,  6,  5,  7,  2,  3,  2, 10,  6])"
      ]
     },
     "execution_count": 162,
     "metadata": {},
     "output_type": "execute_result"
    }
   ],
   "source": [
    "np.random.random_integers(2, 10, 10)"
   ]
  },
  {
   "cell_type": "code",
   "execution_count": 163,
   "metadata": {},
   "outputs": [
    {
     "name": "stderr",
     "output_type": "stream",
     "text": [
      "C:\\ProgramData\\Anaconda3\\lib\\site-packages\\ipykernel_launcher.py:1: DeprecationWarning: This function is deprecated. Please call randint(2, 10 + 1) instead\n",
      "  \"\"\"Entry point for launching an IPython kernel.\n"
     ]
    }
   ],
   "source": [
    "arr[:,0] = np.random.random_integers(2, 10, 10)"
   ]
  },
  {
   "cell_type": "code",
   "execution_count": 164,
   "metadata": {},
   "outputs": [],
   "source": [
    "x = np.argpartition(arr[:,0], 3)"
   ]
  },
  {
   "cell_type": "code",
   "execution_count": 165,
   "metadata": {},
   "outputs": [
    {
     "data": {
      "text/plain": [
       "array([3, 8, 4, 5, 1, 6, 0, 7, 2, 9], dtype=int64)"
      ]
     },
     "execution_count": 165,
     "metadata": {},
     "output_type": "execute_result"
    }
   ],
   "source": [
    "x"
   ]
  },
  {
   "cell_type": "code",
   "execution_count": 166,
   "metadata": {},
   "outputs": [
    {
     "data": {
      "text/plain": [
       "array([ 9.,  7., 10.,  3.,  2.,  7.,  8., 10.,  3.,  9.])"
      ]
     },
     "execution_count": 166,
     "metadata": {},
     "output_type": "execute_result"
    }
   ],
   "source": [
    "arr[:,0]"
   ]
  },
  {
   "cell_type": "code",
   "execution_count": 168,
   "metadata": {},
   "outputs": [
    {
     "data": {
      "text/plain": [
       "array([[3., 0.],\n",
       "       [3., 0.],\n",
       "       [2., 0.]])"
      ]
     },
     "execution_count": 168,
     "metadata": {},
     "output_type": "execute_result"
    }
   ],
   "source": [
    "arr[x[:3]]"
   ]
  },
  {
   "cell_type": "code",
   "execution_count": 169,
   "metadata": {},
   "outputs": [
    {
     "data": {
      "text/plain": [
       "array([[ 9.,  0.],\n",
       "       [ 7.,  0.],\n",
       "       [10.,  0.],\n",
       "       [ 1.,  1.],\n",
       "       [ 1.,  1.],\n",
       "       [ 7.,  0.],\n",
       "       [ 8.,  0.],\n",
       "       [10.,  0.],\n",
       "       [ 1.,  1.],\n",
       "       [ 9.,  0.]])"
      ]
     },
     "execution_count": 169,
     "metadata": {},
     "output_type": "execute_result"
    }
   ],
   "source": [
    "arr[x[:3]] = 1\n",
    "\n",
    "arr"
   ]
  },
  {
   "cell_type": "markdown",
   "metadata": {},
   "source": [
    "## 4.0 Reset an entire col to zeros"
   ]
  },
  {
   "cell_type": "markdown",
   "metadata": {},
   "source": [
    "### 4.1 Reset one col"
   ]
  },
  {
   "cell_type": "code",
   "execution_count": 198,
   "metadata": {},
   "outputs": [
    {
     "data": {
      "text/plain": [
       "array([[2., 4.],\n",
       "       [2., 5.],\n",
       "       [2., 8.],\n",
       "       [2., 6.],\n",
       "       [2., 8.],\n",
       "       [3., 1.]])"
      ]
     },
     "execution_count": 198,
     "metadata": {},
     "output_type": "execute_result"
    }
   ],
   "source": [
    "arr = np.zeros( (6, 2) )\n",
    "arr[:,0] = np.random.randint(1, 10, 6)\n",
    "arr[:,1] = np.random.randint(1, 10, 6)\n",
    "\n",
    "arr"
   ]
  },
  {
   "cell_type": "code",
   "execution_count": 199,
   "metadata": {},
   "outputs": [
    {
     "data": {
      "text/plain": [
       "array([[0., 4.],\n",
       "       [0., 5.],\n",
       "       [0., 8.],\n",
       "       [0., 6.],\n",
       "       [0., 8.],\n",
       "       [0., 1.]])"
      ]
     },
     "execution_count": 199,
     "metadata": {},
     "output_type": "execute_result"
    }
   ],
   "source": [
    "arr[:,0] = 0\n",
    "\n",
    "arr"
   ]
  },
  {
   "cell_type": "markdown",
   "metadata": {},
   "source": [
    "### 4.2 Reset two cols"
   ]
  },
  {
   "cell_type": "code",
   "execution_count": 205,
   "metadata": {},
   "outputs": [
    {
     "data": {
      "text/plain": [
       "array([[7., 7., 1.],\n",
       "       [4., 4., 4.],\n",
       "       [9., 2., 5.],\n",
       "       [9., 5., 5.],\n",
       "       [7., 5., 8.],\n",
       "       [4., 9., 7.]])"
      ]
     },
     "execution_count": 205,
     "metadata": {},
     "output_type": "execute_result"
    }
   ],
   "source": [
    "arr = np.zeros( (6, 3) )\n",
    "arr[:,0] = np.random.randint(1, 10, 6)\n",
    "arr[:,1] = np.random.randint(1, 10, 6)\n",
    "arr[:,2] = np.random.randint(1, 10, 6)\n",
    "\n",
    "arr"
   ]
  },
  {
   "cell_type": "code",
   "execution_count": 206,
   "metadata": {},
   "outputs": [
    {
     "data": {
      "text/plain": [
       "array([[7., 0., 0.],\n",
       "       [4., 0., 0.],\n",
       "       [9., 0., 0.],\n",
       "       [9., 0., 0.],\n",
       "       [7., 0., 0.],\n",
       "       [4., 0., 0.]])"
      ]
     },
     "execution_count": 206,
     "metadata": {},
     "output_type": "execute_result"
    }
   ],
   "source": [
    "arr[:,1:] = 0\n",
    "arr"
   ]
  },
  {
   "cell_type": "markdown",
   "metadata": {},
   "source": [
    "## 5. Set radius equal to the furthest nn\n",
    "- I need the coordinates \n",
    "    - Because you cannot convert arr distances to pixel distances\n",
    "    - Only coordinates"
   ]
  },
  {
   "cell_type": "markdown",
   "metadata": {},
   "source": [
    "### 5.1 Prepare a realistic array"
   ]
  },
  {
   "cell_type": "code",
   "execution_count": 246,
   "metadata": {},
   "outputs": [],
   "source": [
    "arr = np.load('../data/arr30.npy')"
   ]
  },
  {
   "cell_type": "code",
   "execution_count": 247,
   "metadata": {},
   "outputs": [
    {
     "data": {
      "text/plain": [
       "array([[ 7.2292, 17.    ,  0.    ,  0.    ],\n",
       "       [ 9.    , 47.    ,  0.    ,  0.    ],\n",
       "       [ 7.925 , 44.    ,  1.    ,  0.    ],\n",
       "       [ 7.75  , 29.    ,  1.    ,  0.    ],\n",
       "       [40.125 , 36.    ,  0.    ,  0.    ]])"
      ]
     },
     "execution_count": 247,
     "metadata": {},
     "output_type": "execute_result"
    }
   ],
   "source": [
    "zeros = np.zeros( (30, 1) )\n",
    "arr = np.concatenate( (arr_orig, zeros), axis=1 )\n",
    "arr[:5]"
   ]
  },
  {
   "cell_type": "markdown",
   "metadata": {},
   "source": [
    "### 5.2 Do euclid on it"
   ]
  },
  {
   "cell_type": "code",
   "execution_count": 248,
   "metadata": {},
   "outputs": [],
   "source": [
    "for i, coord in enumerate(arr[:,:2]):\n",
    "    arr[i,3] = np.sqrt(np.sum(np.square(coord-mid_coord)))"
   ]
  },
  {
   "cell_type": "code",
   "execution_count": 249,
   "metadata": {},
   "outputs": [
    {
     "data": {
      "text/plain": [
       "array([[ 7.2292    , 17.        ,  0.        ,  8.8441468 ],\n",
       "       [ 9.        , 47.        ,  0.        , 22.09072203],\n",
       "       [ 7.925     , 44.        ,  1.        , 19.24722383],\n",
       "       [ 7.75      , 29.        ,  1.        ,  5.15388203],\n",
       "       [40.125     , 36.        ,  0.        , 31.13303109]])"
      ]
     },
     "execution_count": 249,
     "metadata": {},
     "output_type": "execute_result"
    }
   ],
   "source": [
    "arr[:5]"
   ]
  },
  {
   "cell_type": "markdown",
   "metadata": {},
   "source": [
    "### 5.3 Partition into K nn"
   ]
  },
  {
   "cell_type": "code",
   "execution_count": 250,
   "metadata": {},
   "outputs": [
    {
     "data": {
      "text/plain": [
       "array([ 5, 22, 11,  3, 13, 27, 20,  0, 26, 16, 15, 12,  8, 14,  1, 10,  9,\n",
       "       17, 18, 19,  7, 21,  6, 23, 24, 25,  4,  2, 28, 29], dtype=int64)"
      ]
     },
     "execution_count": 250,
     "metadata": {},
     "output_type": "execute_result"
    }
   ],
   "source": [
    "K = 7\n",
    "\n",
    "x = np.argpartition(arr[:,3], K)\n",
    "x"
   ]
  },
  {
   "cell_type": "code",
   "execution_count": 251,
   "metadata": {},
   "outputs": [
    {
     "data": {
      "text/plain": [
       "array([[ 9.5       , 28.        ,  0.        ,  3.35410197],\n",
       "       [ 8.05      , 20.        ,  0.        ,  5.80538543],\n",
       "       [ 9.5       , 30.        ,  1.        ,  5.22015325],\n",
       "       [ 7.75      , 29.        ,  1.        ,  5.15388203],\n",
       "       [ 7.25      , 20.5       ,  0.        ,  5.85768726],\n",
       "       [ 7.8542    , 31.        ,  0.        ,  6.77466292],\n",
       "       [ 7.775     , 31.        ,  0.        ,  6.81180042]])"
      ]
     },
     "execution_count": 251,
     "metadata": {},
     "output_type": "execute_result"
    }
   ],
   "source": [
    "arr[x[:K]]"
   ]
  },
  {
   "cell_type": "code",
   "execution_count": 252,
   "metadata": {},
   "outputs": [
    {
     "data": {
      "text/plain": [
       "array([[ 7.2292    , 17.        ,  0.        ,  8.8441468 ],\n",
       "       [13.        , 34.        ,  1.        ,  9.21954446],\n",
       "       [ 7.775     , 16.        ,  0.        ,  9.56036741],\n",
       "       [13.        , 34.        ,  1.        ,  9.21954446],\n",
       "       [13.        , 36.        ,  0.        , 11.18033989]])"
      ]
     },
     "execution_count": 252,
     "metadata": {},
     "output_type": "execute_result"
    }
   ],
   "source": [
    "arr[x[K:K+5]]"
   ]
  },
  {
   "cell_type": "markdown",
   "metadata": {},
   "source": [
    "### 5.4 Get the max distance in the partition"
   ]
  },
  {
   "cell_type": "code",
   "execution_count": 253,
   "metadata": {},
   "outputs": [
    {
     "data": {
      "text/plain": [
       "6.811800422795724"
      ]
     },
     "execution_count": 253,
     "metadata": {},
     "output_type": "execute_result"
    }
   ],
   "source": [
    "part = arr[x[:K]]\n",
    "mx = part[:,3].max()\n",
    "mx"
   ]
  },
  {
   "cell_type": "markdown",
   "metadata": {},
   "source": [
    "### 5.5 Get index of max distance in partition"
   ]
  },
  {
   "cell_type": "markdown",
   "metadata": {},
   "source": [
    "#### Get an index from a numpy arr"
   ]
  },
  {
   "cell_type": "code",
   "execution_count": 222,
   "metadata": {},
   "outputs": [
    {
     "data": {
      "text/plain": [
       "array([ 21, 168, 171, 130,  91,  76,  90,  72, 171,  37])"
      ]
     },
     "execution_count": 222,
     "metadata": {},
     "output_type": "execute_result"
    }
   ],
   "source": [
    "arr2 = np.random.randint(1,200,10)\n",
    "arr2"
   ]
  },
  {
   "cell_type": "code",
   "execution_count": 230,
   "metadata": {},
   "outputs": [
    {
     "data": {
      "text/plain": [
       "(array([9], dtype=int64),)"
      ]
     },
     "execution_count": 230,
     "metadata": {},
     "output_type": "execute_result"
    }
   ],
   "source": [
    "np.where(arr2 == 37)"
   ]
  },
  {
   "cell_type": "code",
   "execution_count": 231,
   "metadata": {},
   "outputs": [
    {
     "data": {
      "text/plain": [
       "array([37])"
      ]
     },
     "execution_count": 231,
     "metadata": {},
     "output_type": "execute_result"
    }
   ],
   "source": [
    "x = np.where(arr2 == 37)\n",
    "\n",
    "arr2[x]"
   ]
  },
  {
   "cell_type": "markdown",
   "metadata": {},
   "source": [
    "#### Let's do on the full array"
   ]
  },
  {
   "cell_type": "code",
   "execution_count": 254,
   "metadata": {},
   "outputs": [
    {
     "data": {
      "text/plain": [
       "6.811800422795724"
      ]
     },
     "execution_count": 254,
     "metadata": {},
     "output_type": "execute_result"
    }
   ],
   "source": [
    "mx"
   ]
  },
  {
   "cell_type": "code",
   "execution_count": 255,
   "metadata": {},
   "outputs": [
    {
     "data": {
      "text/plain": [
       "(array([20], dtype=int64), array([3], dtype=int64))"
      ]
     },
     "execution_count": 255,
     "metadata": {},
     "output_type": "execute_result"
    }
   ],
   "source": [
    "np.where(arr == mx)"
   ]
  },
  {
   "cell_type": "code",
   "execution_count": 256,
   "metadata": {},
   "outputs": [
    {
     "data": {
      "text/plain": [
       "array([[93.5       , 30.        ,  1.        , 82.65137627],\n",
       "       [ 7.775     , 31.        ,  0.        ,  6.81180042],\n",
       "       [71.        , 36.        ,  1.        , 61.        ]])"
      ]
     },
     "execution_count": 256,
     "metadata": {},
     "output_type": "execute_result"
    }
   ],
   "source": [
    "arr[19:22]"
   ]
  },
  {
   "cell_type": "markdown",
   "metadata": {},
   "source": [
    "#### It's weird -- it doesn't return the index, you have to slice for that"
   ]
  },
  {
   "cell_type": "code",
   "execution_count": 259,
   "metadata": {},
   "outputs": [
    {
     "data": {
      "text/plain": [
       "20"
      ]
     },
     "execution_count": 259,
     "metadata": {},
     "output_type": "execute_result"
    }
   ],
   "source": [
    "np.where(arr == mx)[0][0]"
   ]
  },
  {
   "cell_type": "code",
   "execution_count": 260,
   "metadata": {},
   "outputs": [],
   "source": [
    "x = np.where(arr == mx)[0][0]"
   ]
  },
  {
   "cell_type": "code",
   "execution_count": 261,
   "metadata": {},
   "outputs": [
    {
     "data": {
      "text/plain": [
       "array([ 7.775, 31.   ])"
      ]
     },
     "execution_count": 261,
     "metadata": {},
     "output_type": "execute_result"
    }
   ],
   "source": [
    "arr[x,:2]"
   ]
  },
  {
   "cell_type": "markdown",
   "metadata": {},
   "source": [
    "## 6. Get sum of survived col"
   ]
  },
  {
   "cell_type": "code",
   "execution_count": 263,
   "metadata": {},
   "outputs": [
    {
     "data": {
      "text/plain": [
       "array([[ 7.2292    , 17.        ,  0.        ,  8.8441468 ],\n",
       "       [ 9.        , 47.        ,  0.        , 22.09072203],\n",
       "       [ 7.925     , 44.        ,  1.        , 19.24722383]])"
      ]
     },
     "execution_count": 263,
     "metadata": {},
     "output_type": "execute_result"
    }
   ],
   "source": [
    "arr[:3]"
   ]
  },
  {
   "cell_type": "code",
   "execution_count": 265,
   "metadata": {},
   "outputs": [
    {
     "data": {
      "text/plain": [
       "15.0"
      ]
     },
     "execution_count": 265,
     "metadata": {},
     "output_type": "execute_result"
    }
   ],
   "source": [
    "arr[:,2].sum()"
   ]
  },
  {
   "cell_type": "code",
   "execution_count": null,
   "metadata": {},
   "outputs": [],
   "source": []
  }
 ],
 "metadata": {
  "kernelspec": {
   "display_name": "Python 3",
   "language": "python",
   "name": "python3"
  },
  "language_info": {
   "codemirror_mode": {
    "name": "ipython",
    "version": 3
   },
   "file_extension": ".py",
   "mimetype": "text/x-python",
   "name": "python",
   "nbconvert_exporter": "python",
   "pygments_lexer": "ipython3",
   "version": "3.7.6"
  }
 },
 "nbformat": 4,
 "nbformat_minor": 4
}
